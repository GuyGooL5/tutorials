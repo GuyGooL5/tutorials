{
 "metadata": {
  "language_info": {
   "codemirror_mode": {
    "name": "ipython",
    "version": 3
   },
   "file_extension": ".py",
   "mimetype": "text/x-python",
   "name": "python",
   "nbconvert_exporter": "python",
   "pygments_lexer": "ipython3",
   "version": "3.8.5-final"
  },
  "orig_nbformat": 2,
  "kernelspec": {
   "name": "python3",
   "display_name": "Python 3",
   "language": "python"
  }
 },
 "nbformat": 4,
 "nbformat_minor": 2,
 "cells": [
  {
   "source": [
    "## High Order Functions and Lambdas by Guy Tsitsiashvili"
   ],
   "cell_type": "markdown",
   "metadata": {}
  },
  {
   "source": [
    "## What is a high order function?\n",
    "A high order function is a function that takes another function and manages some value's state.\n",
    "for example if I want to have a function that loops over an array and another function that prints each value"
   ],
   "cell_type": "markdown",
   "metadata": {}
  },
  {
   "cell_type": "code",
   "execution_count": null,
   "metadata": {},
   "outputs": [],
   "source": [
    "def printNumber(n): \n",
    "    print(n)\n",
    "\n",
    "def loopAnArray(function, arr):\n",
    "    for n in arr:\n",
    "        function(n)"
   ]
  },
  {
   "source": [
    "What I did here is declaring two functions. First is to print a given number, the other takes a function and executes it on each array iteration\n",
    "\n",
    "but you might ask why not build a function that runs on a loop AND prints each number like this:"
   ],
   "cell_type": "markdown",
   "metadata": {}
  },
  {
   "cell_type": "code",
   "execution_count": null,
   "metadata": {},
   "outputs": [],
   "source": [
    "def loopAndPrint(arr):\n",
    "    for n in arr:\n",
    "        print(n)"
   ]
  },
  {
   "source": [
    "First let's test both implementations:"
   ],
   "cell_type": "markdown",
   "metadata": {}
  },
  {
   "cell_type": "code",
   "execution_count": null,
   "metadata": {},
   "outputs": [],
   "source": [
    "array = [1,2,3,4,5]\n",
    "\n",
    "#simple implementation\n",
    "print('test 1:')\n",
    "loopAndPrint(array)\n",
    "print() #empty line\n",
    "#advanced implementation\n",
    "print('test 2:')\n",
    "loopAnArray(printNumber,array)"
   ]
  },
  {
   "source": [
    "So why complicate things? Well as it is now, it really seems redundent but let's say I want to print each number squared.<br>\n",
    "To do this I can create a function that loops and prints each number squared"
   ],
   "cell_type": "markdown",
   "metadata": {}
  },
  {
   "cell_type": "code",
   "execution_count": null,
   "metadata": {},
   "outputs": [],
   "source": [
    "def loopAndPrintSquared(arr):\n",
    "    for n in arr:\n",
    "        print(n**2)\n",
    "\n",
    "loopAndPrintSquared(array)"
   ]
  },
  {
   "source": [
    "Well it seems to work, but there is already an issue. Both ```loopAndPrint``` and ```LoopAndPrintSquared``` have common logic, which is iterating on a loop, the only difference is the print function. so why not create an independent ```printSquared``` function and pass it to the original ```loopAnArray``` function"
   ],
   "cell_type": "markdown",
   "metadata": {}
  },
  {
   "cell_type": "code",
   "execution_count": null,
   "metadata": {},
   "outputs": [],
   "source": [
    "def printSquared(n):\n",
    "    print(n**2)\n",
    "\n",
    "loopAnArray(printSquare,array)"
   ]
  },
  {
   "source": [
    "Nice! it works and there is not really a redundent step, now I can call both functions without having to write redundent for loops"
   ],
   "cell_type": "markdown",
   "metadata": {}
  },
  {
   "cell_type": "code",
   "execution_count": null,
   "metadata": {},
   "outputs": [],
   "source": [
    "print(\"Looping and printing a number from array:\")\n",
    "loopAnArray(printNumber,array)\n",
    "print() #empty line\n",
    "print(\"Looping and printing a squared number from array:\")\n",
    "loopAnArray(printSquare,array)"
   ]
  },
  {
   "source": [
    "Now, let's say I want to print the array but with 10 added to each value or each value halved. To do this I need to declare a new function for each of these operatrion like so:"
   ],
   "cell_type": "markdown",
   "metadata": {}
  },
  {
   "cell_type": "code",
   "execution_count": null,
   "metadata": {},
   "outputs": [],
   "source": [
    "def printAdd10(n):\n",
    "    print(n+10)\n",
    "\n",
    "def printHalved(n):\n",
    "    print(n/2)\n",
    "\n",
    "print(\"Looping and adding 10 to each value:\")\n",
    "loopAnArray(printAdd10,array)\n",
    "print()#empty line\n",
    "print(\"Looping and halving each value:\")\n",
    "loopAnArray(printHalved,array)"
   ]
  },
  {
   "source": [
    "What if I want to decide on spot what to do with the array? Let's say I want to handle huge data and each time try out something new.<br/> Well there is a solution for this.\n",
    "\n",
    "## Let me introduce Lambdas!\n",
    "A lambda is a function that takes arguments and returns a value that can be assigned to a variable."
   ],
   "cell_type": "markdown",
   "metadata": {}
  },
  {
   "cell_type": "code",
   "execution_count": null,
   "metadata": {},
   "outputs": [],
   "source": [
    "printAdd5 = lambda n: print(n+5)\n",
    "loopAnArray(printAdd5,array)"
   ]
  },
  {
   "source": [
    "As you can see, the variable ```printAdd5``` holds a real function that takes an argument ```n``` and prints ```n+5```.<br/>\n",
    "The whole beauty of lambdas is that they can be declarative, meaning they can be written just like any primitve expression.<br/>\n",
    "So instead of declaring a function and then passing it to an high order function, we can pass a lambda directly."
   ],
   "cell_type": "markdown",
   "metadata": {}
  },
  {
   "cell_type": "code",
   "execution_count": null,
   "metadata": {},
   "outputs": [],
   "source": [
    "print(\"Loop and add 3:\")\n",
    "loopAnArray(lambda n:print(n+3),array)\n",
    "print()\n",
    "print(\"Loop and raise to power of 5 \")\n",
    "loopAnArray(lambda n:print(n**5),array)\n",
    "print()\n",
    "print(\"Loop a remainder of 2:\")\n",
    "loopAnArray(lambda n:print(n%2),array)"
   ]
  },
  {
   "source": [
    "In the examples above, I passed 3 different functions without declaring any of them.<br/>\n",
    "This is the power of lambda!"
   ],
   "cell_type": "markdown",
   "metadata": {}
  },
  {
   "source": [
    "## Mutation (not of genes or viruses)\n",
    "A mutation is basically taking a value and mutating it meaning changing it with a given logic.<br/>\n",
    "All we did here was print values which is nice, but what if we want to modify the given array and return it.<br/><br/>\n",
    "To do so I'll first create a new High order function that again, iterates over an array but in each iteration it pushes the result of the given function to a new array and returns it."
   ],
   "cell_type": "markdown",
   "metadata": {}
  },
  {
   "cell_type": "code",
   "execution_count": null,
   "metadata": {},
   "outputs": [],
   "source": [
    "def modifyAnArray(function,arr):\n",
    "    newArr=[]\n",
    "    for n in arr:\n",
    "        newArr.append(function(n))\n",
    "    return newArr"
   ]
  },
  {
   "source": [
    "What the above function does is taking a function and array, then pushing the **result** of the function to the array, then returning the array.<br/>\n",
    "Now, remember that I said that lambda functions **return** a value? We didn't see it in action but when we printed from withing the lambda, the print function was itself returned.<br/>\n",
    "So not to confuse what that means, let's now focus on returning values. Let's beging with a simple example of declaring a function traditonally and with lambda to return a value"
   ],
   "cell_type": "markdown",
   "metadata": {}
  },
  {
   "cell_type": "code",
   "execution_count": null,
   "metadata": {},
   "outputs": [],
   "source": [
    "def substract2(n):\n",
    "    return n-2\n",
    "\n",
    "substract2Lambda = lambda n:n-2\n",
    "\n",
    "print(substract2(5))\n",
    "print(substract2Lambda(5))"
   ]
  },
  {
   "source": [
    "As you can see, the lambda function returns a value without the ```return``` keyword."
   ],
   "cell_type": "markdown",
   "metadata": {}
  },
  {
   "source": [
    "Now let's use our knowledge to make some new arrays. To do so I'll use the ```modifyAnArray``` and pass some lambda functions to generate each new array"
   ],
   "cell_type": "markdown",
   "metadata": {}
  },
  {
   "cell_type": "code",
   "execution_count": null,
   "metadata": {},
   "outputs": [],
   "source": [
    "arrayOfRoots = modifyAnArray(lambda n:n**0.5,array)\n",
    "arryOfTimes10 = modifyAnArray(lambda n:n*10,array)\n",
    "arryOfRemainder3 = modifyAnArray(lambda n:n%3,array)\n",
    "\n",
    "print(arrayOfRoots)\n",
    "print(arryOfTimes10)\n",
    "print(arryOfRemainder3)"
   ]
  },
  {
   "source": [
    "## Transformations \n",
    "Now let's make some interseting modifications, let's say we have an array of pairs, meaning each value of the aray contains two numbers<br/>\n",
    "for example ```pairs = [(1,2),(3,4),(5,6)]``` the pairs are 1,2 and 3,4 and 5,6<br/><br/>\n",
    "Let's create a function that iterates those pairs and returns a new array with modified value."
   ],
   "cell_type": "markdown",
   "metadata": {}
  },
  {
   "cell_type": "code",
   "execution_count": null,
   "metadata": {},
   "outputs": [],
   "source": [
    "def modifyPairsArray(function, arrOfPairs):\n",
    "    newArr=[]\n",
    "    for a,b in arrOfPairs:\n",
    "        newArr.append(function(a,b))\n",
    "    return newArr"
   ]
  },
  {
   "source": [
    "A quick explanation of what happend here. ```modifyPairsArray``` takes a function and an array of pairs, then iterates each pairs with the variables ```a,b``` that represent each value of the pair, meaning ```a``` is the first value and ```b``` is the second value. the ```function``` argument should be a function that takes **two** parameters and return a value, the value can be anything from a number, a pair or a whole array.<br/>\n",
    "Each of the returned value from ```function``` then is pushed to ```newArr``` and it is returned."
   ],
   "cell_type": "markdown",
   "metadata": {}
  },
  {
   "source": [
    "Let's start with an example that takes the pairs and switches each value's position. from now on I'll declare ```array``` to be the reference as an array of pairs"
   ],
   "cell_type": "markdown",
   "metadata": {}
  },
  {
   "source": [
    "array = [(1,2),(3,4),(5,6)]\n",
    "arrayOfSwapped = modifyPairsArray(lambda a,b:(b,a),array)\n",
    "print(arrayOfSwapped)"
   ],
   "cell_type": "code",
   "metadata": {},
   "execution_count": null,
   "outputs": []
  },
  {
   "source": [
    "As you can see that values were swapped.<br/>\n",
    "Now let's say I want to make a new array that contains the maximum of each pair, that is called a transformation. meaning going from one data type to another.<br/>\n",
    "In our case we're going from a pair to a number.\n"
   ],
   "cell_type": "markdown",
   "metadata": {}
  },
  {
   "cell_type": "code",
   "execution_count": null,
   "metadata": {},
   "outputs": [],
   "source": [
    "arrayOfMaximums = modifyPairsArray(lambda a,b: a if(a>b) else b,array)\n",
    "print(arrayOfMaximums)"
   ]
  },
  {
   "source": [
    "I'll explain the technicallity of the expression ```lambda a,b: a if(a>b) else b```. It might seem complicated but to say it in words what happened is: return a if a>b and if not return b. It is simply a syntactic thing to learn.<br/><br/>\n",
    "Let's move on to creating an array of sums, multiples and powers of each other."
   ],
   "cell_type": "markdown",
   "metadata": {}
  },
  {
   "cell_type": "code",
   "execution_count": null,
   "metadata": {},
   "outputs": [],
   "source": [
    "arrOfSums = modifyPairsArray(lambda a,b:a+b,array)\n",
    "arrOfMultiples = modifyPairsArray(lambda a,b:a*b,array)\n",
    "arrOfPowers = modifyPairsArray(lambda a,b:a**b,array)\n",
    "\n",
    "print(arrOfSums)\n",
    "print(arrOfMultiples)\n",
    "print(arrOfPowers)"
   ]
  },
  {
   "source": [
    "## Conclusion \n",
    "There are basically endless of possibilities to use both high order functions and lambdas, this notebook touches only the tip of the iceberg. There are also dictionary manipulations and multiple argument of functions. In the future I'll maybe publish an advanced guide but for now I really hope this made sense.<br/>\n",
    "If anything is wrong/misleading/ambigiuos please open an issue and I'll make sure to fix it.\n",
    "\n",
    "Created with ♥ by Guy Tsitsiashvili."
   ],
   "cell_type": "markdown",
   "metadata": {}
  }
 ]
}
